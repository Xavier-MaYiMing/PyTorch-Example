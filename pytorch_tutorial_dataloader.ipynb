{
 "cells": [
  {
   "cell_type": "markdown",
   "id": "eb77cd5e",
   "metadata": {},
   "source": [
    "# Class 4"
   ]
  },
  {
   "cell_type": "code",
   "execution_count": 3,
   "id": "3e4a3d0a",
   "metadata": {},
   "outputs": [],
   "source": [
    "import torch\n",
    "import torch.utils.data"
   ]
  },
  {
   "cell_type": "code",
   "execution_count": 4,
   "id": "f63cdffa",
   "metadata": {},
   "outputs": [],
   "source": [
    "dataset = 'abcdefghijklmnopqrstuvwxyz'"
   ]
  },
  {
   "cell_type": "code",
   "execution_count": 6,
   "id": "6479fef7",
   "metadata": {},
   "outputs": [
    {
     "name": "stdout",
     "output_type": "stream",
     "text": [
      "['h', 'e']\n",
      "['p', 'v']\n",
      "['n', 'q']\n",
      "['g', 'd']\n",
      "['t', 'c']\n",
      "['m', 'u']\n",
      "['k', 'j']\n",
      "['y', 'x']\n",
      "['b', 'z']\n",
      "['r', 'l']\n",
      "['i', 'f']\n",
      "['o', 'a']\n",
      "['w', 's']\n"
     ]
    }
   ],
   "source": [
    "class ExampleDataset(torch.utils.data.Dataset):\n",
    "    def __init__(self):\n",
    "        self.data = dataset\n",
    "        \n",
    "    def __getitem__(self, idx):\n",
    "        return self.data[idx]\n",
    "    \n",
    "    def __len__(self):\n",
    "        return len(self.data)\n",
    "    \n",
    "\n",
    "dataset1 = ExampleDataset()\n",
    "dataloader = torch.utils.data.DataLoader(\n",
    "    dataset=dataset1,\n",
    "    shuffle=True,\n",
    "    batch_size=2,\n",
    ")\n",
    "for datapoint in dataloader:\n",
    "    print(datapoint)"
   ]
  },
  {
   "cell_type": "code",
   "execution_count": 11,
   "id": "19649a41",
   "metadata": {},
   "outputs": [
    {
     "name": "stdout",
     "output_type": "stream",
     "text": [
      "['q', 'I', 'Y', 'R', 'g', 't', 'C', 'U', 's', 'd', 'J', 'X', 'O', 'y', 'Q', 'r', 'P', 'V', 'E', 'L', 'F', 'K', 'j', 'f', 'M', 'Z']\n",
      "['m', 'b', 'e', 'u', 'a', 'A', 'W', 'l', 'S', 'c', 'x', 'k', 'p', 'w', 'G', 'T', 'h', 'H', 'z', 'n', 'B', 'o', 'D', 'N', 'i', 'v']\n"
     ]
    }
   ],
   "source": [
    "class ExampleDataset(torch.utils.data.Dataset):\n",
    "    def __init__(self):\n",
    "        self.data = dataset\n",
    "        \n",
    "    def __getitem__(self, idx):\n",
    "        if idx >= len(self.data):\n",
    "            return self.data[idx % 26].upper()\n",
    "        else:\n",
    "            return self.data[idx]\n",
    "        \n",
    "    def __len__(self):\n",
    "        return 2 * len(self.data)\n",
    "    \n",
    "\n",
    "dataset2 = ExampleDataset()\n",
    "dataloader = torch.utils.data.DataLoader(\n",
    "    dataset=dataset2,\n",
    "    shuffle=True,\n",
    "    batch_size=26,\n",
    ")\n",
    "for datapoint in dataloader:\n",
    "    print(datapoint)"
   ]
  }
 ],
 "metadata": {
  "kernelspec": {
   "display_name": "Python 3 (ipykernel)",
   "language": "python",
   "name": "python3"
  },
  "language_info": {
   "codemirror_mode": {
    "name": "ipython",
    "version": 3
   },
   "file_extension": ".py",
   "mimetype": "text/x-python",
   "name": "python",
   "nbconvert_exporter": "python",
   "pygments_lexer": "ipython3",
   "version": "3.7.9"
  }
 },
 "nbformat": 4,
 "nbformat_minor": 5
}
