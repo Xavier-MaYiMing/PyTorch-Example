{
 "cells": [
  {
   "cell_type": "code",
   "execution_count": 2,
   "id": "40fe9da6",
   "metadata": {},
   "outputs": [],
   "source": [
    "# Import packages\n",
    "import math\n",
    "import torch\n",
    "import timeit"
   ]
  },
  {
   "cell_type": "code",
   "execution_count": 3,
   "id": "76142c84",
   "metadata": {},
   "outputs": [
    {
     "name": "stdout",
     "output_type": "stream",
     "text": [
      "True\n",
      "True\n"
     ]
    }
   ],
   "source": [
    "print(torch.backends.mps.is_available())\n",
    "print(torch.backends.mps.is_built())"
   ]
  },
  {
   "cell_type": "code",
   "execution_count": 4,
   "id": "763cccc8",
   "metadata": {},
   "outputs": [
    {
     "name": "stdout",
     "output_type": "stream",
     "text": [
      "cpu cpu mps:0 mps:0\n"
     ]
    }
   ],
   "source": [
    "N = 1000000000\n",
    "device = torch.device('mps')\n",
    "cpu_a = torch.randn([1, N])\n",
    "cpu_b = torch.randn([N, 1])\n",
    "gpu_a = torch.randn([1, N], device=device)\n",
    "gpu_b = torch.randn([N, 1], device=device)\n",
    "print(cpu_a.device, cpu_b.device, gpu_a.device, gpu_b.device)b"
   ]
  },
  {
   "cell_type": "code",
   "execution_count": 6,
   "id": "eedb73a8",
   "metadata": {},
   "outputs": [],
   "source": [
    "def cpu_run():\n",
    "    return torch.matmul(cpu_a, cpu_b)\n",
    "\n",
    "\n",
    "def gpu_run():\n",
    "    return torch.matmul(gpu_a, gpu_b)"
   ]
  },
  {
   "cell_type": "code",
   "execution_count": 7,
   "id": "d863cd2d",
   "metadata": {},
   "outputs": [
    {
     "name": "stdout",
     "output_type": "stream",
     "text": [
      "CPU time:  3.8062136670000655 , GPU time:  0.17267050000009476\n"
     ]
    }
   ],
   "source": [
    "# First computation\n",
    "cpu_time = timeit.timeit(cpu_run, number=3)\n",
    "gpu_time = timeit.timeit(gpu_run, number=3)\n",
    "print('CPU time: ', cpu_time, ', GPU time: ', gpu_time)"
   ]
  },
  {
   "cell_type": "code",
   "execution_count": 8,
   "id": "99e84dfe",
   "metadata": {},
   "outputs": [
    {
     "name": "stdout",
     "output_type": "stream",
     "text": [
      "CPU time:  12.265190249999705 , GPU time:  0.0019587500000852742\n"
     ]
    }
   ],
   "source": [
    "# Second computation\n",
    "cpu_time = timeit.timeit(cpu_run, number=10)\n",
    "gpu_time = timeit.timeit(gpu_run, number=10)\n",
    "print('CPU time: ', cpu_time, ', GPU time: ', gpu_time)"
   ]
  }
 ],
 "metadata": {
  "kernelspec": {
   "display_name": "Python 3 (ipykernel)",
   "language": "python",
   "name": "python3"
  },
  "language_info": {
   "codemirror_mode": {
    "name": "ipython",
    "version": 3
   },
   "file_extension": ".py",
   "mimetype": "text/x-python",
   "name": "python",
   "nbconvert_exporter": "python",
   "pygments_lexer": "ipython3",
   "version": "3.7.9"
  }
 },
 "nbformat": 4,
 "nbformat_minor": 5
}
