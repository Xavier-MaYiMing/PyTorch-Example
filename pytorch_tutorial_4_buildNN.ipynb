{
 "cells": [
  {
   "cell_type": "code",
   "execution_count": 1,
   "id": "3ca4ec40",
   "metadata": {},
   "outputs": [],
   "source": [
    "import os\n",
    "import torch\n",
    "from torch import nn\n",
    "from torch.utils.data import DataLoader\n",
    "from torchvision import datasets, transforms"
   ]
  },
  {
   "cell_type": "code",
   "execution_count": 2,
   "id": "0aef7df5",
   "metadata": {},
   "outputs": [],
   "source": [
    "device = (\n",
    "    'cuda'\n",
    "    if torch.cuda.is_available()\n",
    "    else 'mps'\n",
    "    if torch.backends.mps.is_available()\n",
    "    else 'cpu'\n",
    ")"
   ]
  },
  {
   "cell_type": "code",
   "execution_count": 3,
   "id": "b0ce2ca4",
   "metadata": {},
   "outputs": [],
   "source": [
    "class NeuralNetwork(nn.Module):\n",
    "    def __init__(self):\n",
    "        super().__init__()\n",
    "        self.flatten = nn.Flatten()\n",
    "        self.linear_relu_stack = nn.Sequential(\n",
    "            nn.Linear(28 * 28, 512),\n",
    "            nn.ReLU(),\n",
    "            nn.Linear(512, 512),\n",
    "            nn.ReLU(),\n",
    "            nn.Linear(512, 10),\n",
    "        )\n",
    "        \n",
    "    def forward(self, x):\n",
    "        x = self.flatten(x)\n",
    "        x = self.linear_relu_stack(x)\n",
    "        return x"
   ]
  },
  {
   "cell_type": "code",
   "execution_count": 4,
   "id": "4745fea7",
   "metadata": {},
   "outputs": [
    {
     "name": "stdout",
     "output_type": "stream",
     "text": [
      "NeuralNetwork(\n",
      "  (flatten): Flatten(start_dim=1, end_dim=-1)\n",
      "  (linear_relu_stack): Sequential(\n",
      "    (0): Linear(in_features=784, out_features=512, bias=True)\n",
      "    (1): ReLU()\n",
      "    (2): Linear(in_features=512, out_features=512, bias=True)\n",
      "    (3): ReLU()\n",
      "    (4): Linear(in_features=512, out_features=10, bias=True)\n",
      "  )\n",
      ")\n"
     ]
    }
   ],
   "source": [
    "model = NeuralNetwork().to(device)\n",
    "print(model)"
   ]
  },
  {
   "cell_type": "code",
   "execution_count": 6,
   "id": "e4612808",
   "metadata": {},
   "outputs": [
    {
     "name": "stdout",
     "output_type": "stream",
     "text": [
      "tensor([[ 0.0597, -0.1197,  0.0369,  0.0078,  0.0697,  0.0181,  0.0200,  0.0008,\n",
      "         -0.0286, -0.0178]], device='mps:0', grad_fn=<LinearBackward0>)\n",
      "tensor([4], device='mps:0')\n"
     ]
    }
   ],
   "source": [
    "X = torch.rand(1, 28, 28, device=device)\n",
    "output = model(X)\n",
    "print(output)\n",
    "pred_prob = nn.Softmax(dim=1)(output)\n",
    "y_pred = pred_prob.argmax(1)\n",
    "print(y_pred)"
   ]
  },
  {
   "cell_type": "code",
   "execution_count": 7,
   "id": "9728fd48",
   "metadata": {},
   "outputs": [
    {
     "name": "stdout",
     "output_type": "stream",
     "text": [
      "torch.Size([3, 28, 28])\n",
      "torch.Size([3, 784])\n"
     ]
    }
   ],
   "source": [
    "# Flatten\n",
    "input_image = torch.rand(3, 28, 28)\n",
    "print(input_image.size())\n",
    "flatten = nn.Flatten()\n",
    "flat_image = flatten(input_image)\n",
    "print(flat_image.size())"
   ]
  },
  {
   "cell_type": "code",
   "execution_count": 8,
   "id": "1fd52ad0",
   "metadata": {},
   "outputs": [
    {
     "name": "stdout",
     "output_type": "stream",
     "text": [
      "torch.Size([3, 20])\n"
     ]
    }
   ],
   "source": [
    "# Linear\n",
    "layer1 = nn.Linear(in_features=28 * 28, out_features=20)\n",
    "hidden1 = layer1(flat_image)\n",
    "print(hidden1.size())"
   ]
  },
  {
   "cell_type": "code",
   "execution_count": 9,
   "id": "a39a669e",
   "metadata": {},
   "outputs": [
    {
     "name": "stdout",
     "output_type": "stream",
     "text": [
      "Before ReLU: tensor([[ 0.5304, -0.0387,  0.1457, -0.0368, -0.1786,  0.1699, -0.2958,  0.1117,\n",
      "         -0.1328, -0.5773, -0.1258, -0.0054, -0.0102,  0.0899,  0.4953, -0.1897,\n",
      "         -0.0718, -0.2188,  0.0777, -0.1353],\n",
      "        [ 0.4682,  0.3442, -0.0826,  0.1612, -0.6828,  0.2092, -0.0319, -0.0601,\n",
      "         -0.5380, -0.4898,  0.1628, -0.3051, -0.2856,  0.0749,  0.6120, -0.0749,\n",
      "         -0.3890, -0.2893, -0.0503,  0.1147],\n",
      "        [ 0.3044,  0.1364,  0.1781, -0.6261, -0.2257,  0.2489, -0.2052, -0.2766,\n",
      "         -0.6885, -0.2813,  0.0883, -0.2700, -0.0558,  0.0152,  0.6006, -0.2427,\n",
      "         -0.3006, -0.4396, -0.0691,  0.0249]], grad_fn=<AddmmBackward0>)\n",
      "\n",
      "\n",
      "After ReLU: tensor([[0.5304, 0.0000, 0.1457, 0.0000, 0.0000, 0.1699, 0.0000, 0.1117, 0.0000,\n",
      "         0.0000, 0.0000, 0.0000, 0.0000, 0.0899, 0.4953, 0.0000, 0.0000, 0.0000,\n",
      "         0.0777, 0.0000],\n",
      "        [0.4682, 0.3442, 0.0000, 0.1612, 0.0000, 0.2092, 0.0000, 0.0000, 0.0000,\n",
      "         0.0000, 0.1628, 0.0000, 0.0000, 0.0749, 0.6120, 0.0000, 0.0000, 0.0000,\n",
      "         0.0000, 0.1147],\n",
      "        [0.3044, 0.1364, 0.1781, 0.0000, 0.0000, 0.2489, 0.0000, 0.0000, 0.0000,\n",
      "         0.0000, 0.0883, 0.0000, 0.0000, 0.0152, 0.6006, 0.0000, 0.0000, 0.0000,\n",
      "         0.0000, 0.0249]], grad_fn=<ReluBackward0>)\n"
     ]
    }
   ],
   "source": [
    "# Non-linear activations are what create the complex mappings between the model's inputs and outputs.\n",
    "# They are applied after linear transformations to introduce nonlinearity, helping neural networks learn a wide variety of phenomena.\n",
    "print(f'Before ReLU: {hidden1}\\n\\n')\n",
    "hidden1 = nn.ReLU()(hidden1)\n",
    "print(f'After ReLU: {hidden1}')"
   ]
  },
  {
   "cell_type": "code",
   "execution_count": 10,
   "id": "bf56cc81",
   "metadata": {},
   "outputs": [
    {
     "name": "stdout",
     "output_type": "stream",
     "text": [
      "Model structure: NeuralNetwork(\n",
      "  (flatten): Flatten(start_dim=1, end_dim=-1)\n",
      "  (linear_relu_stack): Sequential(\n",
      "    (0): Linear(in_features=784, out_features=512, bias=True)\n",
      "    (1): ReLU()\n",
      "    (2): Linear(in_features=512, out_features=512, bias=True)\n",
      "    (3): ReLU()\n",
      "    (4): Linear(in_features=512, out_features=10, bias=True)\n",
      "  )\n",
      ")\n",
      "\n",
      "\n",
      "Lyaer: linear_relu_stack.0.weight | Size: torch.Size([512, 784]) | Values: tensor([[ 0.0229, -0.0332,  0.0101,  ...,  0.0224,  0.0123, -0.0100],\n",
      "        [ 0.0011, -0.0010,  0.0355,  ..., -0.0063, -0.0218,  0.0257]],\n",
      "       device='mps:0', grad_fn=<SliceBackward0>)\n",
      "\n",
      "Lyaer: linear_relu_stack.0.bias | Size: torch.Size([512]) | Values: tensor([0.0318, 0.0139], device='mps:0', grad_fn=<SliceBackward0>)\n",
      "\n",
      "Lyaer: linear_relu_stack.2.weight | Size: torch.Size([512, 512]) | Values: tensor([[ 0.0291,  0.0176, -0.0081,  ...,  0.0436,  0.0043, -0.0220],\n",
      "        [-0.0276,  0.0052, -0.0415,  ...,  0.0093,  0.0008,  0.0255]],\n",
      "       device='mps:0', grad_fn=<SliceBackward0>)\n",
      "\n",
      "Lyaer: linear_relu_stack.2.bias | Size: torch.Size([512]) | Values: tensor([ 0.0126, -0.0268], device='mps:0', grad_fn=<SliceBackward0>)\n",
      "\n",
      "Lyaer: linear_relu_stack.4.weight | Size: torch.Size([10, 512]) | Values: tensor([[ 0.0258, -0.0368,  0.0074,  ...,  0.0140,  0.0331,  0.0183],\n",
      "        [ 0.0159,  0.0172, -0.0239,  ...,  0.0361, -0.0440,  0.0016]],\n",
      "       device='mps:0', grad_fn=<SliceBackward0>)\n",
      "\n",
      "Lyaer: linear_relu_stack.4.bias | Size: torch.Size([10]) | Values: tensor([-0.0067, -0.0417], device='mps:0', grad_fn=<SliceBackward0>)\n",
      "\n"
     ]
    }
   ],
   "source": [
    "# Model parameters\n",
    "print(f'Model structure: {model}\\n\\n')\n",
    "for name, param in model.named_parameters():\n",
    "    print(f'Lyaer: {name} | Size: {param.size()} | Values: {param[:2]}\\n')"
   ]
  }
 ],
 "metadata": {
  "kernelspec": {
   "display_name": "Python 3 (ipykernel)",
   "language": "python",
   "name": "python3"
  },
  "language_info": {
   "codemirror_mode": {
    "name": "ipython",
    "version": 3
   },
   "file_extension": ".py",
   "mimetype": "text/x-python",
   "name": "python",
   "nbconvert_exporter": "python",
   "pygments_lexer": "ipython3",
   "version": "3.7.9"
  }
 },
 "nbformat": 4,
 "nbformat_minor": 5
}
