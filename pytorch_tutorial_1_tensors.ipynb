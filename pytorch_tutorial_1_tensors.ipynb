{
 "cells": [
  {
   "cell_type": "code",
   "execution_count": 1,
   "id": "21c6179c",
   "metadata": {},
   "outputs": [],
   "source": [
    "import torch\n",
    "import numpy as np"
   ]
  },
  {
   "cell_type": "code",
   "execution_count": 2,
   "id": "deebf1b2",
   "metadata": {},
   "outputs": [],
   "source": [
    "# Initialize a tensor directly from data\n",
    "data = [[1, 2], [3, 4]]\n",
    "x_data = torch.tensor(data)"
   ]
  },
  {
   "cell_type": "code",
   "execution_count": 3,
   "id": "13b40e1c",
   "metadata": {},
   "outputs": [],
   "source": [
    "# Initialize a tensor directly from a numpy array\n",
    "np_array = np.array(data)\n",
    "x_np = torch.from_numpy(np_array)"
   ]
  },
  {
   "cell_type": "code",
   "execution_count": 4,
   "id": "f750282a",
   "metadata": {},
   "outputs": [
    {
     "name": "stdout",
     "output_type": "stream",
     "text": [
      "tensor([[1, 1],\n",
      "        [1, 1]])\n",
      "tensor([[0.1803, 0.4998],\n",
      "        [0.0880, 0.4683]])\n"
     ]
    }
   ],
   "source": [
    "# Initialize a tensor directly from another tensor\n",
    "x_ones = torch.ones_like(x_data)\n",
    "x_rand = torch.rand_like(x_data, dtype=torch.float)  # new tensors retains the properties (shape, datatype) of the argument tensor, unless explicity overridden\n",
    "print(x_ones)\n",
    "print(x_rand)"
   ]
  },
  {
   "cell_type": "code",
   "execution_count": 5,
   "id": "d7346fee",
   "metadata": {},
   "outputs": [],
   "source": [
    "# Initialize a tensor with random or constant values\n",
    "shape = (2, 3)\n",
    "rand_tensor = torch.rand(shape)\n",
    "ones_tensor = torch.ones(shape)\n",
    "zeros_tensor = torch.zeros(shape)"
   ]
  },
  {
   "cell_type": "code",
   "execution_count": 6,
   "id": "e7b23ad3",
   "metadata": {},
   "outputs": [
    {
     "name": "stdout",
     "output_type": "stream",
     "text": [
      "Shape torch.Size([3, 4])\n",
      "Datatype torch.float32\n",
      "Device cpu\n"
     ]
    }
   ],
   "source": [
    "# Attributes of a tensor\n",
    "tensor = torch.rand(3, 4)\n",
    "print(f'Shape {tensor.shape}')\n",
    "print(f'Datatype {tensor.dtype}')\n",
    "print(f'Device {tensor.device}')"
   ]
  },
  {
   "cell_type": "code",
   "execution_count": 7,
   "id": "8b592063",
   "metadata": {},
   "outputs": [
    {
     "name": "stdout",
     "output_type": "stream",
     "text": [
      "mps:0\n"
     ]
    }
   ],
   "source": [
    "# Move to mps\n",
    "if torch.backends.mps.is_available():\n",
    "    tensor = tensor.to('mps')\n",
    "print(tensor.device)"
   ]
  },
  {
   "cell_type": "code",
   "execution_count": 8,
   "id": "82a5fdcd",
   "metadata": {},
   "outputs": [
    {
     "name": "stdout",
     "output_type": "stream",
     "text": [
      "Original tensor tensor([[0.6004, 0.3708, 0.6699, 0.5397],\n",
      "        [0.6660, 0.1220, 0.9896, 0.5484],\n",
      "        [0.9025, 0.0991, 0.4507, 0.3666],\n",
      "        [0.3187, 0.2950, 0.0390, 0.3503]])\n",
      "First column tensor([0.6004, 0.6660, 0.9025, 0.3187])\n",
      "Last column tensor([0.5397, 0.5484, 0.3666, 0.3503])\n",
      "Changed tensor tensor([[0.6004, 0.0000, 0.6699, 0.5397],\n",
      "        [0.6660, 0.0000, 0.9896, 0.5484],\n",
      "        [0.9025, 0.0000, 0.4507, 0.3666],\n",
      "        [0.3187, 0.0000, 0.0390, 0.3503]])\n"
     ]
    }
   ],
   "source": [
    "# Indexing and slicing\n",
    "tensor = torch.rand(4, 4)\n",
    "print(f'Original tensor {tensor}')\n",
    "print(f'First column {tensor[:, 0]}')\n",
    "print(f'Last column {tensor[:, -1]}')\n",
    "tensor[:, 1] = 0\n",
    "print(f'Changed tensor {tensor}')"
   ]
  },
  {
   "cell_type": "code",
   "execution_count": 9,
   "id": "850b1dc9",
   "metadata": {},
   "outputs": [
    {
     "name": "stdout",
     "output_type": "stream",
     "text": [
      "tensor([[0.6004, 0.0000, 0.6699, 0.5397, 0.6004, 0.0000, 0.6699, 0.5397, 0.6004,\n",
      "         0.0000, 0.6699, 0.5397],\n",
      "        [0.6660, 0.0000, 0.9896, 0.5484, 0.6660, 0.0000, 0.9896, 0.5484, 0.6660,\n",
      "         0.0000, 0.9896, 0.5484],\n",
      "        [0.9025, 0.0000, 0.4507, 0.3666, 0.9025, 0.0000, 0.4507, 0.3666, 0.9025,\n",
      "         0.0000, 0.4507, 0.3666],\n",
      "        [0.3187, 0.0000, 0.0390, 0.3503, 0.3187, 0.0000, 0.0390, 0.3503, 0.3187,\n",
      "         0.0000, 0.0390, 0.3503]])\n"
     ]
    }
   ],
   "source": [
    "# Concatenate\n",
    "t1 = torch.cat([tensor, tensor, tensor], dim=1)\n",
    "print(t1)"
   ]
  },
  {
   "cell_type": "code",
   "execution_count": 10,
   "id": "59060363",
   "metadata": {},
   "outputs": [
    {
     "name": "stdout",
     "output_type": "stream",
     "text": [
      "tensor([[1.1005, 1.3587, 1.0416, 0.4066],\n",
      "        [1.3587, 1.7235, 1.2481, 0.4430],\n",
      "        [1.0416, 1.2481, 1.1520, 0.4337],\n",
      "        [0.4066, 0.4430, 0.4337, 0.2259]]) tensor([[1.1005, 1.3587, 1.0416, 0.4066],\n",
      "        [1.3587, 1.7235, 1.2481, 0.4430],\n",
      "        [1.0416, 1.2481, 1.1520, 0.4337],\n",
      "        [0.4066, 0.4430, 0.4337, 0.2259]]) tensor([[1.1005, 1.3587, 1.0416, 0.4066],\n",
      "        [1.3587, 1.7235, 1.2481, 0.4430],\n",
      "        [1.0416, 1.2481, 1.1520, 0.4337],\n",
      "        [0.4066, 0.4430, 0.4337, 0.2259]])\n",
      "tensor([[0.3605, 0.0000, 0.4488, 0.2912],\n",
      "        [0.4436, 0.0000, 0.9793, 0.3007],\n",
      "        [0.8145, 0.0000, 0.2031, 0.1344],\n",
      "        [0.1016, 0.0000, 0.0015, 0.1227]]) tensor([[0.3605, 0.0000, 0.4488, 0.2912],\n",
      "        [0.4436, 0.0000, 0.9793, 0.3007],\n",
      "        [0.8145, 0.0000, 0.2031, 0.1344],\n",
      "        [0.1016, 0.0000, 0.0015, 0.1227]]) tensor([[0.3605, 0.0000, 0.4488, 0.2912],\n",
      "        [0.4436, 0.0000, 0.9793, 0.3007],\n",
      "        [0.8145, 0.0000, 0.2031, 0.1344],\n",
      "        [0.1016, 0.0000, 0.0015, 0.1227]])\n"
     ]
    }
   ],
   "source": [
    "# Arithmetic operations\n",
    "# Matrix multiplication\n",
    "y1 = tensor @ tensor.T\n",
    "y2 = tensor.matmul(tensor.T)\n",
    "y3 = torch.rand_like(y1)\n",
    "torch.matmul(tensor, tensor.T, out=y3)\n",
    "print(y1, y2, y3)\n",
    "\n",
    "# Element-wise product\n",
    "z1 = tensor * tensor\n",
    "z2 = tensor.mul(tensor)\n",
    "z3 = torch.rand_like(tensor)\n",
    "torch.mul(tensor, tensor, out=z3)\n",
    "print(z1, z2, z3)"
   ]
  },
  {
   "cell_type": "code",
   "execution_count": 11,
   "id": "6da0c689",
   "metadata": {},
   "outputs": [
    {
     "name": "stdout",
     "output_type": "stream",
     "text": [
      "6.4417266845703125 <class 'float'>\n"
     ]
    }
   ],
   "source": [
    "# Convert to Python numerical value\n",
    "agg = tensor.sum()\n",
    "agg_item = agg.item()\n",
    "print(agg_item, type(agg_item))"
   ]
  },
  {
   "cell_type": "code",
   "execution_count": 12,
   "id": "4618c7a2",
   "metadata": {},
   "outputs": [
    {
     "name": "stdout",
     "output_type": "stream",
     "text": [
      "tensor([[0.6004, 0.0000, 0.6699, 0.5397],\n",
      "        [0.6660, 0.0000, 0.9896, 0.5484],\n",
      "        [0.9025, 0.0000, 0.4507, 0.3666],\n",
      "        [0.3187, 0.0000, 0.0390, 0.3503]])\n",
      "tensor([[5.6004, 5.0000, 5.6699, 5.5397],\n",
      "        [5.6660, 5.0000, 5.9896, 5.5484],\n",
      "        [5.9025, 5.0000, 5.4507, 5.3666],\n",
      "        [5.3187, 5.0000, 5.0390, 5.3503]])\n"
     ]
    }
   ],
   "source": [
    "# In-place operation (suffix \"_\")\n",
    "print(tensor)\n",
    "tensor.add_(5)\n",
    "print(tensor)"
   ]
  },
  {
   "cell_type": "code",
   "execution_count": 14,
   "id": "b2d2cdb3",
   "metadata": {},
   "outputs": [
    {
     "name": "stdout",
     "output_type": "stream",
     "text": [
      "t: tensor([1., 1., 1., 1., 1.])\n",
      "n: [1. 1. 1. 1. 1.]\n",
      "t: tensor([2., 2., 2., 2., 2.])\n",
      "n: [2. 2. 2. 2. 2.]\n"
     ]
    }
   ],
   "source": [
    "# Tensor to numpy\n",
    "t = torch.ones(5)\n",
    "print(f't: {t}')\n",
    "n = t.numpy()\n",
    "print(f'n: {n}')\n",
    "\n",
    "t.add_(1)\n",
    "print(f't: {t}')\n",
    "print(f'n: {n}')"
   ]
  },
  {
   "cell_type": "code",
   "execution_count": 15,
   "id": "3cd0cf5f",
   "metadata": {},
   "outputs": [
    {
     "name": "stdout",
     "output_type": "stream",
     "text": [
      "n: [2. 2. 2. 2. 2.]\n",
      "t: tensor([2., 2., 2., 2., 2.], dtype=torch.float64)\n"
     ]
    }
   ],
   "source": [
    "# Numpy to tensor\n",
    "n = np.ones(5)\n",
    "t = torch.from_numpy(n)\n",
    "np.add(n, 1, out=n)\n",
    "print(f'n: {n}')\n",
    "print(f't: {t}')"
   ]
  }
 ],
 "metadata": {
  "kernelspec": {
   "display_name": "Python 3 (ipykernel)",
   "language": "python",
   "name": "python3"
  },
  "language_info": {
   "codemirror_mode": {
    "name": "ipython",
    "version": 3
   },
   "file_extension": ".py",
   "mimetype": "text/x-python",
   "name": "python",
   "nbconvert_exporter": "python",
   "pygments_lexer": "ipython3",
   "version": "3.7.9"
  }
 },
 "nbformat": 4,
 "nbformat_minor": 5
}
