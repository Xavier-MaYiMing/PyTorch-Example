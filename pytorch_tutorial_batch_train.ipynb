{
 "cells": [
  {
   "cell_type": "markdown",
   "id": "e21e8a3a",
   "metadata": {},
   "source": [
    "# Class 10. Batch train"
   ]
  },
  {
   "cell_type": "code",
   "execution_count": 1,
   "id": "830d2400",
   "metadata": {},
   "outputs": [
    {
     "data": {
      "text/plain": [
       "<torch._C.Generator at 0x7f8a1048b250>"
      ]
     },
     "execution_count": 1,
     "metadata": {},
     "output_type": "execute_result"
    }
   ],
   "source": [
    "import torch\n",
    "import torch.utils.data as Data\n",
    "torch.manual_seed(1)"
   ]
  },
  {
   "cell_type": "code",
   "execution_count": 3,
   "id": "08b88712",
   "metadata": {},
   "outputs": [
    {
     "name": "stdout",
     "output_type": "stream",
     "text": [
      "Epoch:  0  | Step:  0  | batch x:  [5. 3. 1. 7. 9.]  | batch y:  [ 6.  8. 10.  4.  2.]\n",
      "Epoch:  0  | Step:  1  | batch x:  [ 8. 10.  2.  6.  4.]  | batch y:  [3. 1. 9. 5. 7.]\n",
      "Epoch:  1  | Step:  0  | batch x:  [5. 9. 2. 6. 1.]  | batch y:  [ 6.  2.  9.  5. 10.]\n",
      "Epoch:  1  | Step:  1  | batch x:  [ 3.  4.  7. 10.  8.]  | batch y:  [8. 7. 4. 1. 3.]\n",
      "Epoch:  2  | Step:  0  | batch x:  [6. 9. 4. 8. 7.]  | batch y:  [5. 2. 7. 3. 4.]\n",
      "Epoch:  2  | Step:  1  | batch x:  [10.  3.  2.  1.  5.]  | batch y:  [ 1.  8.  9. 10.  6.]\n"
     ]
    }
   ],
   "source": [
    "BATCH_SIZE = 5\n",
    "x = torch.linspace(1, 10, 10)\n",
    "y = torch.linspace(10, 1, 10)\n",
    "torch_dataset = Data.TensorDataset(x, y)\n",
    "loader = Data.DataLoader(\n",
    "    dataset=torch_dataset,\n",
    "    batch_size=BATCH_SIZE, \n",
    "    shuffle=True,\n",
    "    num_workers=2,\n",
    ")\n",
    "\n",
    "for epoch in range(3):\n",
    "    for step, (batch_x, batch_y) in enumerate(loader):\n",
    "        print('Epoch: ', epoch, ' | Step: ', step, ' | batch x: ', batch_x.numpy(), ' | batch y: ', batch_y.numpy())"
   ]
  },
  {
   "cell_type": "code",
   "execution_count": 5,
   "id": "b8cf4e31",
   "metadata": {},
   "outputs": [
    {
     "name": "stdout",
     "output_type": "stream",
     "text": [
      "Epoch:  0  | Step:  0  | batch x:  [10.  5.  1.  8.  3.  6.  7.  9.]  | batch y:  [ 1.  6. 10.  3.  8.  5.  4.  2.]\n",
      "Epoch:  0  | Step:  1  | batch x:  [4. 2.]  | batch y:  [7. 9.]\n",
      "Epoch:  1  | Step:  0  | batch x:  [ 9.  6. 10.  7.  8.  2.  5.  4.]  | batch y:  [2. 5. 1. 4. 3. 9. 6. 7.]\n",
      "Epoch:  1  | Step:  1  | batch x:  [1. 3.]  | batch y:  [10.  8.]\n",
      "Epoch:  2  | Step:  0  | batch x:  [ 6.  9.  8. 10.  4.  2.  7.  1.]  | batch y:  [ 5.  2.  3.  1.  7.  9.  4. 10.]\n",
      "Epoch:  2  | Step:  1  | batch x:  [3. 5.]  | batch y:  [8. 6.]\n"
     ]
    }
   ],
   "source": [
    "BATCH_SIZE = 8\n",
    "torch_dataset = Data.TensorDataset(x, y)\n",
    "loader = Data.DataLoader(\n",
    "    dataset=torch_dataset,\n",
    "    batch_size=BATCH_SIZE, \n",
    "    shuffle=True,\n",
    "    num_workers=2,\n",
    ")\n",
    "\n",
    "for epoch in range(3):\n",
    "    for step, (batch_x, batch_y) in enumerate(loader):\n",
    "        print('Epoch: ', epoch, ' | Step: ', step, ' | batch x: ', batch_x.numpy(), ' | batch y: ', batch_y.numpy())"
   ]
  }
 ],
 "metadata": {
  "kernelspec": {
   "display_name": "Python 3 (ipykernel)",
   "language": "python",
   "name": "python3"
  },
  "language_info": {
   "codemirror_mode": {
    "name": "ipython",
    "version": 3
   },
   "file_extension": ".py",
   "mimetype": "text/x-python",
   "name": "python",
   "nbconvert_exporter": "python",
   "pygments_lexer": "ipython3",
   "version": "3.7.9"
  }
 },
 "nbformat": 4,
 "nbformat_minor": 5
}
